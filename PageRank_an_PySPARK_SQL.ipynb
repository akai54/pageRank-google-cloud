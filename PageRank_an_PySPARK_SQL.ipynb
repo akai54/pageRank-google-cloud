{
  "cells": [
    {
      "cell_type": "markdown",
      "metadata": {
        "colab_type": "text",
        "id": "view-in-github"
      },
      "source": [
        "<a href=\"https://colab.research.google.com/github/momo54/large_scale_data_management/blob/main/PageRank_an_PySPARK_SQL.ipynb\" target=\"_parent\"><img src=\"https://colab.research.google.com/assets/colab-badge.svg\" alt=\"Open In Colab\"/></a>"
      ]
    },
    {
      "cell_type": "code",
      "execution_count": 35,
      "metadata": {
        "colab": {
          "base_uri": "https://localhost:8080/"
        },
        "id": "iJTFdC0vVqiY",
        "outputId": "22fe9af3-e8f3-474e-eff7-aca15cff5867"
      },
      "outputs": [
        {
          "name": "stdout",
          "output_type": "stream",
          "text": [
            "Requirement already satisfied: pyspark in /usr/local/lib/python3.10/dist-packages (3.5.0)\n",
            "Requirement already satisfied: py4j==0.10.9.7 in /usr/local/lib/python3.10/dist-packages (from pyspark) (0.10.9.7)\n"
          ]
        }
      ],
      "source": [
        "!pip install pyspark"
      ]
    },
    {
      "cell_type": "code",
      "execution_count": 36,
      "metadata": {
        "id": "1KCvbWLtVtM0"
      },
      "outputs": [],
      "source": [
        "!pip install -q findspark\n",
        "import findspark\n",
        "findspark.init()"
      ]
    },
    {
      "cell_type": "code",
      "execution_count": 37,
      "metadata": {
        "colab": {
          "base_uri": "https://localhost:8080/"
        },
        "id": "c170pcXpWHw4",
        "outputId": "de916377-59ea-4c47-ea87-6d8db77006f0"
      },
      "outputs": [
        {
          "name": "stdout",
          "output_type": "stream",
          "text": [
            "sample_data  small_page_links.nt  small_page_links.nt.1\n"
          ]
        }
      ],
      "source": [
        "!wget -q https://storage.googleapis.com/public_lddm_data/small_page_links.nt\n",
        "!ls"
      ]
    },
    {
      "cell_type": "code",
      "execution_count": 13,
      "metadata": {
        "id": "TtAMxYKoZDzr"
      },
      "outputs": [],
      "source": [
        "from pyspark.sql import SparkSession\n",
        "from pyspark.sql.functions import col\n",
        "from pyspark.sql.functions import sum as spark_sum\n",
        "\n",
        "# Créez une session Spark\n",
        "spark = SparkSession.builder.appName(\"PageRankExample\").getOrCreate()\n"
      ]
    },
    {
      "cell_type": "code",
      "execution_count": 14,
      "metadata": {
        "id": "bwJ5e6iFbPRC"
      },
      "outputs": [],
      "source": [
        "from pyspark.sql.types import StructType, StructField, StringType, IntegerType, DoubleType\n",
        "schema = StructType([\n",
        "    StructField(\"source\", StringType(), nullable=True),\n",
        "    StructField(\"predicate\", StringType(), nullable=True),\n",
        "    StructField(\"target\", StringType(), nullable=True)\n",
        "])"
      ]
    },
    {
      "cell_type": "code",
      "execution_count": 15,
      "metadata": {
        "colab": {
          "base_uri": "https://localhost:8080/"
        },
        "id": "WDSxqtIxbkRd",
        "outputId": "9455cd48-6ab7-4e13-ecd0-19ec15e5bedd"
      },
      "outputs": [
        {
          "name": "stdout",
          "output_type": "stream",
          "text": [
            "+-------------------------------------------------------+--------------------------------------+-----------------------------------------------------------+\n",
            "|                                                 source|                             predicate|                                                     target|\n",
            "+-------------------------------------------------------+--------------------------------------+-----------------------------------------------------------+\n",
            "|       <http://dbpedia.org/resource/AfghanistanHistory>|<http://dbpedia.org/property/wikilink>|       <http://dbpedia.org/resource/History_of_Afghanistan>|\n",
            "|     <http://dbpedia.org/resource/AfghanistanGeography>|<http://dbpedia.org/property/wikilink>|     <http://dbpedia.org/resource/Geography_of_Afghanistan>|\n",
            "|      <http://dbpedia.org/resource/AccessibleComputing>|<http://dbpedia.org/property/wikilink>|       <http://dbpedia.org/resource/Computer_accessibility>|\n",
            "|        <http://dbpedia.org/resource/AfghanistanPeople>|<http://dbpedia.org/property/wikilink>|    <http://dbpedia.org/resource/Demography_of_Afghanistan>|\n",
            "|<http://dbpedia.org/resource/AfghanistanCommunications>|<http://dbpedia.org/property/wikilink>|<http://dbpedia.org/resource/Communications_in_Afghanistan>|\n",
            "+-------------------------------------------------------+--------------------------------------+-----------------------------------------------------------+\n",
            "only showing top 5 rows\n",
            "\n"
          ]
        }
      ],
      "source": [
        "# Chargez vos données web en tant que DataFrame\n",
        "# Supposons que vous ayez un DataFrame avec deux colonnes : 'source' et 'target' représentant les liens entre les pages web\n",
        "# Par exemple, vous pouvez le charger à partir d'un fichier CSV\n",
        "data = spark.read.option(\"delimiter\",\" \").csv(\"small_page_links.nt\", header=False, schema=schema)\n",
        "data.show(5,truncate=200)"
      ]
    },
    {
      "cell_type": "code",
      "execution_count": 16,
      "metadata": {
        "colab": {
          "base_uri": "https://localhost:8080/"
        },
        "id": "_dYw-zlWeXf6",
        "outputId": "8e1976b2-3e7f-4b45-f8c9-4514c48b427a"
      },
      "outputs": [
        {
          "name": "stdout",
          "output_type": "stream",
          "text": [
            "+--------------------+\n",
            "|              source|\n",
            "+--------------------+\n",
            "|<http://dbpedia.o...|\n",
            "|<http://dbpedia.o...|\n",
            "|<http://dbpedia.o...|\n",
            "|<http://dbpedia.o...|\n",
            "|<http://dbpedia.o...|\n",
            "+--------------------+\n",
            "only showing top 5 rows\n",
            "\n"
          ]
        }
      ],
      "source": [
        "# So we can really write SQL !!\n",
        "data.createOrReplaceTempView(\"SPO\")\n",
        "result=spark.sql(\"select source from SPO\")\n",
        "result.show(5)"
      ]
    },
    {
      "cell_type": "code",
      "execution_count": 17,
      "metadata": {
        "colab": {
          "base_uri": "https://localhost:8080/"
        },
        "id": "jbrHqa1KZhiv",
        "outputId": "aeaaf869-3150-40d8-b0c5-abfab8456878"
      },
      "outputs": [
        {
          "data": {
            "text/plain": [
              "[Row(source='<http://dbpedia.org/resource/AfghanistanHistory>', predicate='<http://dbpedia.org/property/wikilink>', target='<http://dbpedia.org/resource/History_of_Afghanistan>')]"
            ]
          },
          "execution_count": 17,
          "metadata": {},
          "output_type": "execute_result"
        }
      ],
      "source": [
        "data.take(1)"
      ]
    },
    {
      "cell_type": "code",
      "execution_count": 18,
      "metadata": {
        "colab": {
          "base_uri": "https://localhost:8080/"
        },
        "id": "l7XgCADodTfE",
        "outputId": "118553ac-2465-46b1-ad26-1a49a9c62c92"
      },
      "outputs": [
        {
          "name": "stdout",
          "output_type": "stream",
          "text": [
            "+--------------------------------------------------------+---------+--------+\n",
            "|                                                    page|outDegree|pagerank|\n",
            "+--------------------------------------------------------+---------+--------+\n",
            "|            <http://dbpedia.org/resource/Actinopterygii>|      197|   197.0|\n",
            "|   <http://dbpedia.org/resource/AtlasShruggedCharacters>|        1|     1.0|\n",
            "|                     <http://dbpedia.org/resource/AbboT>|        1|     1.0|\n",
            "|           <http://dbpedia.org/resource/AcademicElitism>|        1|     1.0|\n",
            "|<http://dbpedia.org/resource/Atlas_%28disambiguation%29>|      145|   145.0|\n",
            "+--------------------------------------------------------+---------+--------+\n",
            "only showing top 5 rows\n",
            "\n"
          ]
        }
      ],
      "source": [
        "# Créez un DataFrame contenant le nombre de liens sortants pour chaque page\n",
        "outdegrees = data.groupBy(\"source\").count().withColumnRenamed(\"source\", \"page\").withColumnRenamed(\"count\", \"outDegree\")\n",
        "\n",
        "# Définissez le nombre d'itérations pour le calcul du PageRank\n",
        "max_iterations = 3\n",
        "damping_factor = 0.85\n",
        "\n",
        "# Initialisation du PageRank en attribuant à chaque page une valeur de départ\n",
        "initial_pagerank = 1.0\n",
        "\n",
        "# Créez un DataFrame contenant les valeurs de PageRank initiales\n",
        "pagerank = outdegrees.withColumn(\"pagerank\", col(\"outDegree\") / initial_pagerank)\n",
        "\n",
        "pagerank.show(5,truncate=100)\n"
      ]
    },
    {
      "cell_type": "code",
      "execution_count": 20,
      "metadata": {
        "colab": {
          "base_uri": "https://localhost:8080/"
        },
        "id": "-2KZfyUqkuM5",
        "outputId": "6b6355a1-5770-4038-b2e2-fab01501d5b8"
      },
      "outputs": [
        {
          "name": "stderr",
          "output_type": "stream",
          "text": [
            "                                                                                \r"
          ]
        },
        {
          "name": "stdout",
          "output_type": "stream",
          "text": [
            "+--------------------+-------------------+\n",
            "|                page|           pagerank|\n",
            "+--------------------+-------------------+\n",
            "|<http://dbpedia.o...|0.15000000000000002|\n",
            "|<http://dbpedia.o...|                1.0|\n",
            "|<http://dbpedia.o...|                1.0|\n",
            "|<http://dbpedia.o...|0.15000000000000002|\n",
            "|<http://dbpedia.o...|0.15000000000000002|\n",
            "+--------------------+-------------------+\n",
            "only showing top 5 rows\n",
            "\n"
          ]
        }
      ],
      "source": [
        "from pyspark.sql.functions import col, lit, sum as spark_sum, coalesce\n",
        "\n",
        "# Étape 1: Rejoignez le DataFrame pagerank avec le DataFrame data pour calculer la contribution à partir des liens entrants\n",
        "contrib = data.join(pagerank, data.target == pagerank.page, \"left\") \\\n",
        "              .select(data.source.alias(\"page\"), (col(\"pagerank\") / col(\"outDegree\")).alias(\"contrib\"))\n",
        "\n",
        "# Étape 2: Créez un DataFrame contenant toutes les pages (sources et cibles) distinctes\n",
        "all_pages = data.select(\"source\").union(data.select(\"target\")).distinct().withColumnRenamed(\"source\", \"page\")\n",
        "\n",
        "# Étape 3: Calculez le nouveau PageRank en regroupant les contributions par page\n",
        "new_pagerank = contrib.groupBy(\"page\").agg(spark_sum(\"contrib\").alias(\"pagerank\"))\n",
        "\n",
        "# Étape 4: Joignez toutes les pages avec le nouveau PageRank pour inclure les pages sans contributions\n",
        "pagerank = all_pages.join(new_pagerank, \"page\", \"left\") \\\n",
        "                    .withColumn(\"pagerank\", coalesce(col(\"pagerank\"), lit(0.0))) \\\n",
        "                    .withColumn(\"pagerank\", (1 - damping_factor) + damping_factor * col(\"pagerank\"))\n",
        "\n",
        "# Étape 5: Affichez les 5 premières lignes du DataFrame pagerank\n",
        "pagerank.show(5)\n"
      ]
    },
    {
      "cell_type": "code",
      "execution_count": 23,
      "metadata": {
        "colab": {
          "base_uri": "https://localhost:8080/",
          "height": 686
        },
        "id": "OK9Ub4rId8Bg",
        "outputId": "0e7abe16-4afb-4110-c729-155eb00ec2d2"
      },
      "outputs": [
        {
          "name": "stderr",
          "output_type": "stream",
          "text": [
            "                                                                                \r"
          ]
        },
        {
          "name": "stdout",
          "output_type": "stream",
          "text": [
            "+--------------------+-------------------+\n",
            "|                page|           pagerank|\n",
            "+--------------------+-------------------+\n",
            "|<http://dbpedia.o...|0.15000000000000002|\n",
            "|<http://dbpedia.o...| 18.765000000000004|\n",
            "+--------------------+-------------------+\n",
            "only showing top 2 rows\n",
            "\n"
          ]
        }
      ],
      "source": [
        "# Alias des DataFrames pour éviter l'ambiguïté\n",
        "data_alias = data.alias(\"data\")\n",
        "pagerank_alias = pagerank.alias(\"pagerank\")\n",
        "outdegrees_alias = outdegrees.alias(\"outdegrees\")\n",
        "\n",
        "# Étape 2 : Joignez le DataFrame pagerank avec le DataFrame data pour calculer les contributions des pages\n",
        "contrib = data_alias \\\n",
        "    .join(pagerank_alias, col(\"data.target\") == col(\"pagerank.page\"), \"left\") \\\n",
        "    .join(outdegrees_alias, col(\"data.source\") == col(\"outdegrees.source\"), \"left\") \\\n",
        "    .select(col(\"data.source\").alias(\"page\"), (col(\"pagerank.pagerank\") / col(\"outdegrees.outDegree\")).alias(\"contrib\"))\n",
        "\n",
        "# Étape 3 : Calculez le nouveau PageRank en regroupant les contributions par page\n",
        "new_pagerank = contrib.groupBy(\"page\").agg(spark_sum(\"contrib\").alias(\"pagerank\"))\n",
        "\n",
        "# Étape 4 : Assurez-vous que toutes les pages reçoivent une valeur, même celles sans liens entrants\n",
        "all_pages = data_alias.select(\"source\").union(data_alias.select(\"target\")).distinct().withColumnRenamed(\"source\", \"page\")\n",
        "\n",
        "pagerank = all_pages.join(new_pagerank, \"page\", \"left\") \\\n",
        "                    .withColumn(\"pagerank\", coalesce(col(\"pagerank\"), lit(0.0))) \\\n",
        "                    .withColumn(\"pagerank\", (1 - damping_factor) + damping_factor * col(\"pagerank\"))\n",
        "\n",
        "# Étape 5 : Affichez les 2 premières lignes pour validation\n",
        "pagerank.show(2)\n"
      ]
    },
    {
      "cell_type": "code",
      "execution_count": 25,
      "metadata": {
        "colab": {
          "base_uri": "https://localhost:8080/"
        },
        "id": "u39aYX1jzi8H",
        "outputId": "d0808860-9f8b-413e-c8c3-c67c8ef9e3f6"
      },
      "outputs": [
        {
          "name": "stdout",
          "output_type": "stream",
          "text": [
            "Iteration 1/10\n",
            "Iteration 2/10\n",
            "Iteration 3/10\n",
            "Iteration 4/10\n",
            "Iteration 5/10\n",
            "Iteration 6/10\n",
            "Iteration 7/10\n",
            "Iteration 8/10\n",
            "Iteration 9/10\n",
            "Iteration 10/10\n"
          ]
        },
        {
          "name": "stderr",
          "output_type": "stream",
          "text": [
            "                                                                                \r"
          ]
        },
        {
          "name": "stdout",
          "output_type": "stream",
          "text": [
            "+--------------------+-------------------+\n",
            "|                page|           pagerank|\n",
            "+--------------------+-------------------+\n",
            "|<http://dbpedia.o...|0.27749999999999997|\n",
            "|<http://dbpedia.o...| 0.3889538184843779|\n",
            "|<http://dbpedia.o...|0.38790712787573095|\n",
            "|<http://dbpedia.o...|             0.2775|\n",
            "|<http://dbpedia.o...| 0.2775000000000001|\n",
            "|<http://dbpedia.o...| 0.2824131688855989|\n",
            "|<http://dbpedia.o...| 0.2825131734252726|\n",
            "|<http://dbpedia.o...| 0.2785609397944201|\n",
            "|<http://dbpedia.o...|             0.2775|\n",
            "|<http://dbpedia.o...|             0.2775|\n",
            "|<http://dbpedia.o...|             0.2775|\n",
            "|<http://dbpedia.o...| 0.2781131713322693|\n",
            "|<http://dbpedia.o...|             0.2775|\n",
            "|<http://dbpedia.o...| 0.2797527239482297|\n",
            "|<http://dbpedia.o...|0.27898458904109585|\n",
            "|<http://dbpedia.o...|0.27810516810610625|\n",
            "|<http://dbpedia.o...|0.28029541098055233|\n",
            "|<http://dbpedia.o...|0.38616585101824497|\n",
            "|<http://dbpedia.o...| 0.2785724888668978|\n",
            "|<http://dbpedia.o...| 0.3872161846153231|\n",
            "+--------------------+-------------------+\n",
            "only showing top 20 rows\n",
            "\n",
            "Temps d'exécution : 18.70 secondes\n"
          ]
        }
      ],
      "source": [
        "import time\n",
        "from pyspark.sql.functions import col, lit, sum as spark_sum, coalesce\n",
        "\n",
        "max_iterations = 10\n",
        "debut = time.time()\n",
        "\n",
        "# Effectuez des itérations pour calculer le PageRank\n",
        "for iteration in range(max_iterations):\n",
        "    print(f\"Iteration {iteration + 1}/{max_iterations}\")\n",
        "\n",
        "    # Alias pour éviter les ambiguïtés\n",
        "    data_alias = data.alias(\"data\")\n",
        "    pagerank_alias = pagerank.alias(\"pagerank\")\n",
        "    outdegrees_alias = outdegrees.alias(\"outdegrees\")\n",
        "\n",
        "    # Étape 1 : Rejoignez le DataFrame pagerank avec data pour calculer les contributions\n",
        "    contrib = data_alias \\\n",
        "        .join(pagerank_alias, col(\"data.target\") == col(\"pagerank.page\"), \"left\") \\\n",
        "        .join(outdegrees_alias, col(\"data.source\") == col(\"outdegrees.source\"), \"left\") \\\n",
        "        .select(col(\"data.source\").alias(\"page\"), (col(\"pagerank.pagerank\") / col(\"outdegrees.outDegree\")).alias(\"contrib\"))\n",
        "\n",
        "    # Étape 2 : Calculez le nouveau PageRank\n",
        "    new_pagerank = contrib.groupBy(\"page\").agg(spark_sum(\"contrib\").alias(\"pagerank\"))\n",
        "\n",
        "    # Étape 3 : Assurez-vous que toutes les pages sont incluses\n",
        "    all_pages = data.select(\"source\").union(data.select(\"target\")).distinct().withColumnRenamed(\"source\", \"page\")\n",
        "\n",
        "    pagerank = all_pages.join(new_pagerank, \"page\", \"left\") \\\n",
        "                        .withColumn(\"pagerank\", coalesce(col(\"pagerank\"), lit(0.0))) \\\n",
        "                        .withColumn(\"pagerank\", (1 - damping_factor) + damping_factor * col(\"pagerank\"))\n",
        "\n",
        "# Affichez les résultats\n",
        "pagerank.select(\"page\", \"pagerank\").show()\n",
        "\n",
        "fin = time.time()\n",
        "print(f\"Temps d'exécution : {fin - debut:.2f} secondes\")"
      ]
    }
  ],
  "metadata": {
    "colab": {
      "authorship_tag": "ABX9TyNM0ti+gj0rtjSEeM9vHDgk",
      "include_colab_link": true,
      "provenance": []
    },
    "kernelspec": {
      "display_name": "Python 3",
      "name": "python3"
    },
    "language_info": {
      "codemirror_mode": {
        "name": "ipython",
        "version": 3
      },
      "file_extension": ".py",
      "mimetype": "text/x-python",
      "name": "python",
      "nbconvert_exporter": "python",
      "pygments_lexer": "ipython3",
      "version": "3.12.3"
    }
  },
  "nbformat": 4,
  "nbformat_minor": 0
}
